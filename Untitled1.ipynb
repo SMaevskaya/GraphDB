{
 "cells": [
  {
   "cell_type": "code",
   "execution_count": 1,
   "id": "19cd8c3f",
   "metadata": {},
   "outputs": [],
   "source": [
    "import pandas as pd\n",
    "df = pd.read_csv('data_test.csv',sep=';')\n"
   ]
  },
  {
   "cell_type": "code",
   "execution_count": 5,
   "id": "e0385623",
   "metadata": {},
   "outputs": [],
   "source": [
    "from py2neo import Graph"
   ]
  },
  {
   "cell_type": "code",
   "execution_count": 6,
   "id": "5fb8687d",
   "metadata": {},
   "outputs": [],
   "source": [
    "graph = Graph(\"bolt://localhost:7687\", auth=(\"neo4j\", \"12345678\"))"
   ]
  },
  {
   "cell_type": "code",
   "execution_count": 84,
   "id": "d87f327c",
   "metadata": {},
   "outputs": [],
   "source": [
    "for row in df.to_dict('records'):\n",
    "    graph.run(\"MERGE (a:Person {name: $name}) MERGE (b:Person {name: $name1}) CREATE (m:Event {title: $title}) CREATE (a)-[p1:LINK]->(b) CREATE (a)-[p3:LINK]->(m) CREATE (b)-[p4:LINK]->(m)\", name=row['ФИО участника события 1'],name1=row['ФИО участника события 2'],title=row['id события'])\n",
    "    \n",
    "\n",
    "   "
   ]
  },
  {
   "cell_type": "code",
   "execution_count": 59,
   "id": "3e67cfcc",
   "metadata": {},
   "outputs": [
    {
     "name": "stdout",
     "output_type": "stream",
     "text": [
      " * Serving Flask app \"__main__\" (lazy loading)\n",
      " * Environment: production\n",
      "\u001b[31m   WARNING: This is a development server. Do not use it in a production deployment.\u001b[0m\n",
      "\u001b[2m   Use a production WSGI server instead.\u001b[0m\n",
      " * Debug mode: off\n"
     ]
    },
    {
     "name": "stderr",
     "output_type": "stream",
     "text": [
      " * Running on http://127.0.0.1:4567/ (Press CTRL+C to quit)\n"
     ]
    }
   ],
   "source": [
    "from neo4j import GraphDatabase\n",
    "from flask import Flask, request, jsonify\n",
    "app = Flask(__name__)\n",
    "driver = GraphDatabase.driver(\"bolt://localhost:7687\", auth=(\"neo4j\", \"12345678\")) \n",
    "\n",
    "@app.route('/graph', methods=['GET'])\n",
    "def get_graph():\n",
    "    name = request.args.get('name')    \n",
    "    with driver.session() as session:\n",
    "        result = session.run(\"MATCH (p:Person {name: $name})-[r]->(c:Person) RETURN *\", name=name)\n",
    "        nodes = []\n",
    "        edges = []\n",
    "        for record in result:        \n",
    "            nodes.append({\"name\": record[\"p\"][\"name\"]})\n",
    "            nodes.append({\"name\": record[\"c\"][\"name\"]}) \n",
    "            edges.append({\"from\": record[\"p\"]['name'], \"to\": record[\"c\"]['name']})\n",
    "        graph_data = {\"nodes\": nodes, \"edges\": edges}       \n",
    "    return jsonify(graph_data)\n",
    "\n",
    "\n",
    "if __name__ == \"__main__\":\n",
    "    app.run(host='127.0.0.1', port=4567)\n"
   ]
  },
  {
   "cell_type": "code",
   "execution_count": null,
   "id": "9adceb01",
   "metadata": {},
   "outputs": [],
   "source": []
  },
  {
   "cell_type": "code",
   "execution_count": null,
   "id": "f7666e8f",
   "metadata": {},
   "outputs": [],
   "source": []
  }
 ],
 "metadata": {
  "kernelspec": {
   "display_name": "Python 3 (ipykernel)",
   "language": "python",
   "name": "python3"
  },
  "language_info": {
   "codemirror_mode": {
    "name": "ipython",
    "version": 3
   },
   "file_extension": ".py",
   "mimetype": "text/x-python",
   "name": "python",
   "nbconvert_exporter": "python",
   "pygments_lexer": "ipython3",
   "version": "3.9.13"
  }
 },
 "nbformat": 4,
 "nbformat_minor": 5
}
